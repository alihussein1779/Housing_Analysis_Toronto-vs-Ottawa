{
 "cells": [
  {
   "cell_type": "markdown",
   "metadata": {},
   "source": [
    "## Data Collection"
   ]
  },
  {
   "cell_type": "code",
   "execution_count": 1,
   "metadata": {},
   "outputs": [],
   "source": [
    "# Import Python Libraries\n",
    "\n",
    "# For HTML parsing\n",
    "from bs4 import BeautifulSoup \n",
    "from selenium import webdriver\n",
    "\n",
    "# For website connections\n",
    "import requests \n",
    "\n",
    "# For data cleanup\n",
    "import re\n",
    "\n",
    "# For zipcode search\n",
    "#!pip install opencage\n",
    "from opencage.geocoder import OpenCageGeocode\n",
    "\n",
    "\n",
    "# To prevent overwhelming the server between connections\n",
    "import time\n",
    "from time import sleep \n",
    "\n",
    "# Display the progress bar\n",
    "from tqdm import tqdm\n",
    "\n",
    "# For data wrangling\n",
    "import numpy as np\n",
    "import pandas as pd\n",
    "\n",
    "pd.set_option('display.max_columns', 500)\n",
    "pd.set_option('display.width', 1000)\n",
    "\n",
    "# For creating plots\n",
    "import matplotlib.pyplot as plt\n",
    "import plotly.graph_objects as go\n",
    "\n",
    "\n",
    "    \n"
   ]
  },
  {
   "cell_type": "code",
   "execution_count": 2,
   "metadata": {},
   "outputs": [
    {
     "name": "stderr",
     "output_type": "stream",
     "text": [
      "  0%|          | 0/99 [00:00<?, ?it/s]"
     ]
    },
    {
     "name": "stdout",
     "output_type": "stream",
     "text": [
      "Successful response\n"
     ]
    },
    {
     "name": "stderr",
     "output_type": "stream",
     "text": [
      "  1%|          | 1/99 [00:09<14:49,  9.07s/it]"
     ]
    },
    {
     "name": "stdout",
     "output_type": "stream",
     "text": [
      "Successful response\n"
     ]
    },
    {
     "name": "stderr",
     "output_type": "stream",
     "text": [
      "  2%|▏         | 2/99 [00:17<13:51,  8.57s/it]"
     ]
    },
    {
     "name": "stdout",
     "output_type": "stream",
     "text": [
      "Successful response\n"
     ]
    },
    {
     "name": "stderr",
     "output_type": "stream",
     "text": [
      "  3%|▎         | 3/99 [00:25<13:27,  8.41s/it]"
     ]
    },
    {
     "name": "stdout",
     "output_type": "stream",
     "text": [
      "Successful response\n"
     ]
    },
    {
     "name": "stderr",
     "output_type": "stream",
     "text": [
      "  4%|▍         | 4/99 [00:33<13:13,  8.35s/it]"
     ]
    },
    {
     "name": "stdout",
     "output_type": "stream",
     "text": [
      "Successful response\n"
     ]
    },
    {
     "name": "stderr",
     "output_type": "stream",
     "text": [
      "  5%|▌         | 5/99 [00:41<12:57,  8.27s/it]"
     ]
    },
    {
     "name": "stdout",
     "output_type": "stream",
     "text": [
      "Successful response\n"
     ]
    },
    {
     "name": "stderr",
     "output_type": "stream",
     "text": [
      "  6%|▌         | 6/99 [00:50<12:45,  8.23s/it]"
     ]
    },
    {
     "name": "stdout",
     "output_type": "stream",
     "text": [
      "Successful response\n"
     ]
    },
    {
     "name": "stderr",
     "output_type": "stream",
     "text": [
      "  7%|▋         | 7/99 [00:57<12:28,  8.13s/it]"
     ]
    },
    {
     "name": "stdout",
     "output_type": "stream",
     "text": [
      "Successful response\n"
     ]
    },
    {
     "name": "stderr",
     "output_type": "stream",
     "text": [
      "  8%|▊         | 8/99 [01:05<12:15,  8.08s/it]"
     ]
    },
    {
     "name": "stdout",
     "output_type": "stream",
     "text": [
      "Successful response\n"
     ]
    },
    {
     "name": "stderr",
     "output_type": "stream",
     "text": [
      "  9%|▉         | 9/99 [01:13<12:00,  8.00s/it]"
     ]
    },
    {
     "name": "stdout",
     "output_type": "stream",
     "text": [
      "Successful response\n"
     ]
    },
    {
     "name": "stderr",
     "output_type": "stream",
     "text": [
      " 10%|█         | 10/99 [01:21<11:48,  7.96s/it]"
     ]
    },
    {
     "name": "stdout",
     "output_type": "stream",
     "text": [
      "Successful response\n"
     ]
    },
    {
     "name": "stderr",
     "output_type": "stream",
     "text": [
      " 11%|█         | 11/99 [01:29<11:37,  7.92s/it]"
     ]
    },
    {
     "name": "stdout",
     "output_type": "stream",
     "text": [
      "Successful response\n"
     ]
    },
    {
     "name": "stderr",
     "output_type": "stream",
     "text": [
      " 12%|█▏        | 12/99 [01:37<11:27,  7.90s/it]"
     ]
    },
    {
     "name": "stdout",
     "output_type": "stream",
     "text": [
      "Successful response\n"
     ]
    },
    {
     "name": "stderr",
     "output_type": "stream",
     "text": [
      " 13%|█▎        | 13/99 [01:45<11:19,  7.90s/it]"
     ]
    },
    {
     "name": "stdout",
     "output_type": "stream",
     "text": [
      "Successful response\n"
     ]
    },
    {
     "name": "stderr",
     "output_type": "stream",
     "text": [
      " 14%|█▍        | 14/99 [01:53<11:09,  7.88s/it]"
     ]
    },
    {
     "name": "stdout",
     "output_type": "stream",
     "text": [
      "Successful response\n"
     ]
    },
    {
     "name": "stderr",
     "output_type": "stream",
     "text": [
      " 15%|█▌        | 15/99 [02:00<11:02,  7.88s/it]"
     ]
    },
    {
     "name": "stdout",
     "output_type": "stream",
     "text": [
      "Successful response\n"
     ]
    },
    {
     "name": "stderr",
     "output_type": "stream",
     "text": [
      " 16%|█▌        | 16/99 [02:08<10:55,  7.90s/it]"
     ]
    },
    {
     "name": "stdout",
     "output_type": "stream",
     "text": [
      "Successful response\n"
     ]
    },
    {
     "name": "stderr",
     "output_type": "stream",
     "text": [
      " 17%|█▋        | 17/99 [02:17<10:56,  8.00s/it]"
     ]
    },
    {
     "name": "stdout",
     "output_type": "stream",
     "text": [
      "Successful response\n"
     ]
    },
    {
     "name": "stderr",
     "output_type": "stream",
     "text": [
      " 18%|█▊        | 18/99 [02:25<10:46,  7.98s/it]"
     ]
    },
    {
     "name": "stdout",
     "output_type": "stream",
     "text": [
      "Successful response\n"
     ]
    },
    {
     "name": "stderr",
     "output_type": "stream",
     "text": [
      " 19%|█▉        | 19/99 [02:33<10:37,  7.97s/it]"
     ]
    },
    {
     "name": "stdout",
     "output_type": "stream",
     "text": [
      "Successful response\n"
     ]
    },
    {
     "name": "stderr",
     "output_type": "stream",
     "text": [
      " 20%|██        | 20/99 [02:41<10:32,  8.01s/it]"
     ]
    },
    {
     "name": "stdout",
     "output_type": "stream",
     "text": [
      "Successful response\n"
     ]
    },
    {
     "name": "stderr",
     "output_type": "stream",
     "text": [
      " 21%|██        | 21/99 [02:49<10:22,  7.98s/it]"
     ]
    },
    {
     "name": "stdout",
     "output_type": "stream",
     "text": [
      "Successful response\n"
     ]
    },
    {
     "name": "stderr",
     "output_type": "stream",
     "text": [
      " 22%|██▏       | 22/99 [02:57<10:14,  7.98s/it]"
     ]
    },
    {
     "name": "stdout",
     "output_type": "stream",
     "text": [
      "Successful response\n"
     ]
    },
    {
     "name": "stderr",
     "output_type": "stream",
     "text": [
      " 23%|██▎       | 23/99 [03:04<10:02,  7.92s/it]"
     ]
    },
    {
     "name": "stdout",
     "output_type": "stream",
     "text": [
      "Successful response\n"
     ]
    },
    {
     "name": "stderr",
     "output_type": "stream",
     "text": [
      " 24%|██▍       | 24/99 [03:12<09:52,  7.90s/it]"
     ]
    },
    {
     "name": "stdout",
     "output_type": "stream",
     "text": [
      "Successful response\n"
     ]
    },
    {
     "name": "stderr",
     "output_type": "stream",
     "text": [
      " 25%|██▌       | 25/99 [03:21<09:55,  8.05s/it]"
     ]
    },
    {
     "name": "stdout",
     "output_type": "stream",
     "text": [
      "Successful response\n"
     ]
    },
    {
     "name": "stderr",
     "output_type": "stream",
     "text": [
      " 26%|██▋       | 26/99 [03:28<09:45,  8.02s/it]"
     ]
    },
    {
     "name": "stdout",
     "output_type": "stream",
     "text": [
      "Successful response\n"
     ]
    },
    {
     "name": "stderr",
     "output_type": "stream",
     "text": [
      " 27%|██▋       | 27/99 [03:36<09:36,  8.00s/it]"
     ]
    },
    {
     "name": "stdout",
     "output_type": "stream",
     "text": [
      "Successful response\n"
     ]
    },
    {
     "name": "stderr",
     "output_type": "stream",
     "text": [
      " 28%|██▊       | 28/99 [03:44<09:26,  7.98s/it]"
     ]
    },
    {
     "name": "stdout",
     "output_type": "stream",
     "text": [
      "Successful response\n"
     ]
    },
    {
     "name": "stderr",
     "output_type": "stream",
     "text": [
      " 29%|██▉       | 29/99 [03:52<09:15,  7.94s/it]"
     ]
    },
    {
     "name": "stdout",
     "output_type": "stream",
     "text": [
      "Successful response\n"
     ]
    },
    {
     "name": "stderr",
     "output_type": "stream",
     "text": [
      " 30%|███       | 30/99 [04:00<09:05,  7.91s/it]"
     ]
    },
    {
     "name": "stdout",
     "output_type": "stream",
     "text": [
      "Successful response\n"
     ]
    },
    {
     "name": "stderr",
     "output_type": "stream",
     "text": [
      " 31%|███▏      | 31/99 [04:08<08:57,  7.90s/it]"
     ]
    },
    {
     "name": "stdout",
     "output_type": "stream",
     "text": [
      "Successful response\n"
     ]
    },
    {
     "name": "stderr",
     "output_type": "stream",
     "text": [
      " 32%|███▏      | 32/99 [04:16<08:48,  7.89s/it]"
     ]
    },
    {
     "name": "stdout",
     "output_type": "stream",
     "text": [
      "Successful response\n"
     ]
    },
    {
     "name": "stderr",
     "output_type": "stream",
     "text": [
      " 33%|███▎      | 33/99 [04:24<08:40,  7.89s/it]"
     ]
    },
    {
     "name": "stdout",
     "output_type": "stream",
     "text": [
      "Successful response\n"
     ]
    },
    {
     "name": "stderr",
     "output_type": "stream",
     "text": [
      " 34%|███▍      | 34/99 [04:32<08:33,  7.90s/it]"
     ]
    },
    {
     "name": "stdout",
     "output_type": "stream",
     "text": [
      "Successful response\n"
     ]
    },
    {
     "name": "stderr",
     "output_type": "stream",
     "text": [
      " 35%|███▌      | 35/99 [04:39<08:24,  7.89s/it]"
     ]
    },
    {
     "name": "stdout",
     "output_type": "stream",
     "text": [
      "Successful response\n"
     ]
    },
    {
     "name": "stderr",
     "output_type": "stream",
     "text": [
      " 36%|███▋      | 36/99 [04:47<08:16,  7.88s/it]"
     ]
    },
    {
     "name": "stdout",
     "output_type": "stream",
     "text": [
      "Successful response\n"
     ]
    },
    {
     "name": "stderr",
     "output_type": "stream",
     "text": [
      " 37%|███▋      | 37/99 [04:55<08:08,  7.88s/it]"
     ]
    },
    {
     "name": "stdout",
     "output_type": "stream",
     "text": [
      "Successful response\n"
     ]
    },
    {
     "name": "stderr",
     "output_type": "stream",
     "text": [
      " 38%|███▊      | 38/99 [05:03<08:01,  7.89s/it]"
     ]
    },
    {
     "name": "stdout",
     "output_type": "stream",
     "text": [
      "Successful response\n"
     ]
    },
    {
     "name": "stderr",
     "output_type": "stream",
     "text": [
      " 39%|███▉      | 39/99 [05:11<07:52,  7.87s/it]"
     ]
    },
    {
     "name": "stdout",
     "output_type": "stream",
     "text": [
      "Successful response\n"
     ]
    },
    {
     "name": "stderr",
     "output_type": "stream",
     "text": [
      " 40%|████      | 40/99 [05:19<07:44,  7.87s/it]"
     ]
    },
    {
     "name": "stdout",
     "output_type": "stream",
     "text": [
      "Successful response\n"
     ]
    },
    {
     "name": "stderr",
     "output_type": "stream",
     "text": [
      " 41%|████▏     | 41/99 [05:27<07:35,  7.86s/it]"
     ]
    },
    {
     "name": "stdout",
     "output_type": "stream",
     "text": [
      "Successful response\n"
     ]
    },
    {
     "name": "stderr",
     "output_type": "stream",
     "text": [
      " 42%|████▏     | 42/99 [05:35<07:28,  7.86s/it]"
     ]
    },
    {
     "name": "stdout",
     "output_type": "stream",
     "text": [
      "Successful response\n"
     ]
    },
    {
     "name": "stderr",
     "output_type": "stream",
     "text": [
      " 43%|████▎     | 43/99 [05:42<07:19,  7.86s/it]"
     ]
    },
    {
     "name": "stdout",
     "output_type": "stream",
     "text": [
      "Successful response\n"
     ]
    },
    {
     "name": "stderr",
     "output_type": "stream",
     "text": [
      " 44%|████▍     | 44/99 [05:50<07:12,  7.87s/it]"
     ]
    },
    {
     "name": "stdout",
     "output_type": "stream",
     "text": [
      "Successful response\n"
     ]
    },
    {
     "name": "stderr",
     "output_type": "stream",
     "text": [
      " 45%|████▌     | 45/99 [05:58<07:05,  7.89s/it]"
     ]
    },
    {
     "name": "stdout",
     "output_type": "stream",
     "text": [
      "Successful response\n"
     ]
    },
    {
     "name": "stderr",
     "output_type": "stream",
     "text": [
      " 46%|████▋     | 46/99 [06:06<06:56,  7.86s/it]"
     ]
    },
    {
     "name": "stdout",
     "output_type": "stream",
     "text": [
      "Successful response\n"
     ]
    },
    {
     "name": "stderr",
     "output_type": "stream",
     "text": [
      " 47%|████▋     | 47/99 [06:14<06:48,  7.85s/it]"
     ]
    },
    {
     "name": "stdout",
     "output_type": "stream",
     "text": [
      "Successful response\n"
     ]
    },
    {
     "name": "stderr",
     "output_type": "stream",
     "text": [
      " 48%|████▊     | 48/99 [06:22<06:39,  7.83s/it]"
     ]
    },
    {
     "name": "stdout",
     "output_type": "stream",
     "text": [
      "Successful response\n"
     ]
    },
    {
     "name": "stderr",
     "output_type": "stream",
     "text": [
      " 49%|████▉     | 49/99 [06:30<06:32,  7.85s/it]"
     ]
    },
    {
     "name": "stdout",
     "output_type": "stream",
     "text": [
      "Successful response\n"
     ]
    },
    {
     "name": "stderr",
     "output_type": "stream",
     "text": [
      " 51%|█████     | 50/99 [06:37<06:24,  7.84s/it]"
     ]
    },
    {
     "name": "stdout",
     "output_type": "stream",
     "text": [
      "Successful response\n"
     ]
    },
    {
     "name": "stderr",
     "output_type": "stream",
     "text": [
      " 52%|█████▏    | 51/99 [06:45<06:19,  7.91s/it]"
     ]
    },
    {
     "name": "stdout",
     "output_type": "stream",
     "text": [
      "Successful response\n"
     ]
    },
    {
     "name": "stderr",
     "output_type": "stream",
     "text": [
      " 53%|█████▎    | 52/99 [06:53<06:10,  7.87s/it]"
     ]
    },
    {
     "name": "stdout",
     "output_type": "stream",
     "text": [
      "Successful response\n"
     ]
    },
    {
     "name": "stderr",
     "output_type": "stream",
     "text": [
      " 54%|█████▎    | 53/99 [07:01<06:01,  7.87s/it]"
     ]
    },
    {
     "name": "stdout",
     "output_type": "stream",
     "text": [
      "Successful response\n"
     ]
    },
    {
     "name": "stderr",
     "output_type": "stream",
     "text": [
      " 55%|█████▍    | 54/99 [07:09<05:53,  7.85s/it]"
     ]
    },
    {
     "name": "stdout",
     "output_type": "stream",
     "text": [
      "Successful response\n"
     ]
    },
    {
     "name": "stderr",
     "output_type": "stream",
     "text": [
      " 56%|█████▌    | 55/99 [07:17<05:45,  7.85s/it]"
     ]
    },
    {
     "name": "stdout",
     "output_type": "stream",
     "text": [
      "Successful response\n"
     ]
    },
    {
     "name": "stderr",
     "output_type": "stream",
     "text": [
      " 57%|█████▋    | 56/99 [07:25<05:36,  7.83s/it]"
     ]
    },
    {
     "name": "stdout",
     "output_type": "stream",
     "text": [
      "Successful response\n"
     ]
    },
    {
     "name": "stderr",
     "output_type": "stream",
     "text": [
      " 58%|█████▊    | 57/99 [07:32<05:28,  7.83s/it]"
     ]
    },
    {
     "name": "stdout",
     "output_type": "stream",
     "text": [
      "Successful response\n"
     ]
    },
    {
     "name": "stderr",
     "output_type": "stream",
     "text": [
      " 59%|█████▊    | 58/99 [07:40<05:21,  7.84s/it]"
     ]
    },
    {
     "name": "stdout",
     "output_type": "stream",
     "text": [
      "Successful response\n"
     ]
    },
    {
     "name": "stderr",
     "output_type": "stream",
     "text": [
      " 60%|█████▉    | 59/99 [07:48<05:13,  7.83s/it]"
     ]
    },
    {
     "name": "stdout",
     "output_type": "stream",
     "text": [
      "Successful response\n"
     ]
    },
    {
     "name": "stderr",
     "output_type": "stream",
     "text": [
      " 61%|██████    | 60/99 [07:56<05:06,  7.85s/it]"
     ]
    },
    {
     "name": "stdout",
     "output_type": "stream",
     "text": [
      "Successful response\n"
     ]
    },
    {
     "name": "stderr",
     "output_type": "stream",
     "text": [
      " 62%|██████▏   | 61/99 [08:04<04:58,  7.84s/it]"
     ]
    },
    {
     "name": "stdout",
     "output_type": "stream",
     "text": [
      "Successful response\n"
     ]
    },
    {
     "name": "stderr",
     "output_type": "stream",
     "text": [
      " 63%|██████▎   | 62/99 [08:12<04:50,  7.84s/it]"
     ]
    },
    {
     "name": "stdout",
     "output_type": "stream",
     "text": [
      "Successful response\n"
     ]
    },
    {
     "name": "stderr",
     "output_type": "stream",
     "text": [
      " 64%|██████▎   | 63/99 [08:19<04:43,  7.86s/it]"
     ]
    },
    {
     "name": "stdout",
     "output_type": "stream",
     "text": [
      "Successful response\n"
     ]
    },
    {
     "name": "stderr",
     "output_type": "stream",
     "text": [
      " 65%|██████▍   | 64/99 [08:27<04:36,  7.89s/it]"
     ]
    },
    {
     "name": "stdout",
     "output_type": "stream",
     "text": [
      "Successful response\n"
     ]
    },
    {
     "name": "stderr",
     "output_type": "stream",
     "text": [
      " 66%|██████▌   | 65/99 [08:35<04:27,  7.87s/it]"
     ]
    },
    {
     "name": "stdout",
     "output_type": "stream",
     "text": [
      "Successful response\n"
     ]
    },
    {
     "name": "stderr",
     "output_type": "stream",
     "text": [
      " 67%|██████▋   | 66/99 [08:43<04:19,  7.85s/it]"
     ]
    },
    {
     "name": "stdout",
     "output_type": "stream",
     "text": [
      "Successful response\n"
     ]
    },
    {
     "name": "stderr",
     "output_type": "stream",
     "text": [
      " 68%|██████▊   | 67/99 [08:51<04:11,  7.87s/it]"
     ]
    },
    {
     "name": "stdout",
     "output_type": "stream",
     "text": [
      "Successful response\n"
     ]
    },
    {
     "name": "stderr",
     "output_type": "stream",
     "text": [
      " 69%|██████▊   | 68/99 [08:59<04:04,  7.88s/it]"
     ]
    },
    {
     "name": "stdout",
     "output_type": "stream",
     "text": [
      "Successful response\n"
     ]
    },
    {
     "name": "stderr",
     "output_type": "stream",
     "text": [
      " 70%|██████▉   | 69/99 [09:07<03:56,  7.88s/it]"
     ]
    },
    {
     "name": "stdout",
     "output_type": "stream",
     "text": [
      "Successful response\n"
     ]
    },
    {
     "name": "stderr",
     "output_type": "stream",
     "text": [
      " 71%|███████   | 70/99 [09:15<03:48,  7.88s/it]"
     ]
    },
    {
     "name": "stdout",
     "output_type": "stream",
     "text": [
      "Successful response\n"
     ]
    },
    {
     "name": "stderr",
     "output_type": "stream",
     "text": [
      " 72%|███████▏  | 71/99 [09:23<03:40,  7.89s/it]"
     ]
    },
    {
     "name": "stdout",
     "output_type": "stream",
     "text": [
      "Successful response\n"
     ]
    },
    {
     "name": "stderr",
     "output_type": "stream",
     "text": [
      " 73%|███████▎  | 72/99 [09:30<03:33,  7.90s/it]"
     ]
    },
    {
     "name": "stdout",
     "output_type": "stream",
     "text": [
      "Successful response\n"
     ]
    },
    {
     "name": "stderr",
     "output_type": "stream",
     "text": [
      " 74%|███████▎  | 73/99 [09:38<03:25,  7.90s/it]"
     ]
    },
    {
     "name": "stdout",
     "output_type": "stream",
     "text": [
      "Successful response\n"
     ]
    },
    {
     "name": "stderr",
     "output_type": "stream",
     "text": [
      " 75%|███████▍  | 74/99 [09:46<03:19,  7.96s/it]"
     ]
    },
    {
     "name": "stdout",
     "output_type": "stream",
     "text": [
      "Successful response\n"
     ]
    },
    {
     "name": "stderr",
     "output_type": "stream",
     "text": [
      " 76%|███████▌  | 75/99 [09:54<03:09,  7.91s/it]"
     ]
    },
    {
     "name": "stdout",
     "output_type": "stream",
     "text": [
      "Successful response\n"
     ]
    },
    {
     "name": "stderr",
     "output_type": "stream",
     "text": [
      " 77%|███████▋  | 76/99 [10:02<03:01,  7.91s/it]"
     ]
    },
    {
     "name": "stdout",
     "output_type": "stream",
     "text": [
      "Successful response\n"
     ]
    },
    {
     "name": "stderr",
     "output_type": "stream",
     "text": [
      " 78%|███████▊  | 77/99 [10:10<02:53,  7.90s/it]"
     ]
    },
    {
     "name": "stdout",
     "output_type": "stream",
     "text": [
      "Successful response\n"
     ]
    },
    {
     "name": "stderr",
     "output_type": "stream",
     "text": [
      " 79%|███████▉  | 78/99 [10:18<02:46,  7.91s/it]"
     ]
    },
    {
     "name": "stdout",
     "output_type": "stream",
     "text": [
      "Successful response\n"
     ]
    },
    {
     "name": "stderr",
     "output_type": "stream",
     "text": [
      " 80%|███████▉  | 79/99 [10:26<02:38,  7.91s/it]"
     ]
    },
    {
     "name": "stdout",
     "output_type": "stream",
     "text": [
      "Successful response\n"
     ]
    },
    {
     "name": "stderr",
     "output_type": "stream",
     "text": [
      " 81%|████████  | 80/99 [10:34<02:30,  7.93s/it]"
     ]
    },
    {
     "name": "stdout",
     "output_type": "stream",
     "text": [
      "Successful response\n"
     ]
    },
    {
     "name": "stderr",
     "output_type": "stream",
     "text": [
      " 82%|████████▏ | 81/99 [10:42<02:23,  7.99s/it]"
     ]
    },
    {
     "name": "stdout",
     "output_type": "stream",
     "text": [
      "Successful response\n"
     ]
    },
    {
     "name": "stderr",
     "output_type": "stream",
     "text": [
      " 83%|████████▎ | 82/99 [10:50<02:16,  8.01s/it]"
     ]
    },
    {
     "name": "stdout",
     "output_type": "stream",
     "text": [
      "Successful response\n"
     ]
    },
    {
     "name": "stderr",
     "output_type": "stream",
     "text": [
      " 84%|████████▍ | 83/99 [10:58<02:09,  8.07s/it]"
     ]
    },
    {
     "name": "stdout",
     "output_type": "stream",
     "text": [
      "Successful response\n"
     ]
    },
    {
     "name": "stderr",
     "output_type": "stream",
     "text": [
      " 85%|████████▍ | 84/99 [11:06<02:01,  8.11s/it]"
     ]
    },
    {
     "name": "stdout",
     "output_type": "stream",
     "text": [
      "Successful response\n"
     ]
    },
    {
     "name": "stderr",
     "output_type": "stream",
     "text": [
      " 86%|████████▌ | 85/99 [11:15<01:53,  8.12s/it]"
     ]
    },
    {
     "name": "stdout",
     "output_type": "stream",
     "text": [
      "Successful response\n"
     ]
    },
    {
     "name": "stderr",
     "output_type": "stream",
     "text": [
      " 87%|████████▋ | 86/99 [11:23<01:45,  8.14s/it]"
     ]
    },
    {
     "name": "stdout",
     "output_type": "stream",
     "text": [
      "Successful response\n"
     ]
    },
    {
     "name": "stderr",
     "output_type": "stream",
     "text": [
      " 88%|████████▊ | 87/99 [11:31<01:37,  8.15s/it]"
     ]
    },
    {
     "name": "stdout",
     "output_type": "stream",
     "text": [
      "Successful response\n"
     ]
    },
    {
     "name": "stderr",
     "output_type": "stream",
     "text": [
      " 89%|████████▉ | 88/99 [11:39<01:29,  8.11s/it]"
     ]
    },
    {
     "name": "stdout",
     "output_type": "stream",
     "text": [
      "Successful response\n"
     ]
    },
    {
     "name": "stderr",
     "output_type": "stream",
     "text": [
      " 90%|████████▉ | 89/99 [11:47<01:20,  8.10s/it]"
     ]
    },
    {
     "name": "stdout",
     "output_type": "stream",
     "text": [
      "Successful response\n"
     ]
    },
    {
     "name": "stderr",
     "output_type": "stream",
     "text": [
      " 91%|█████████ | 90/99 [11:55<01:12,  8.09s/it]"
     ]
    },
    {
     "name": "stdout",
     "output_type": "stream",
     "text": [
      "Successful response\n"
     ]
    },
    {
     "name": "stderr",
     "output_type": "stream",
     "text": [
      " 92%|█████████▏| 91/99 [12:03<01:04,  8.10s/it]"
     ]
    },
    {
     "name": "stdout",
     "output_type": "stream",
     "text": [
      "Successful response\n"
     ]
    },
    {
     "name": "stderr",
     "output_type": "stream",
     "text": [
      " 93%|█████████▎| 92/99 [12:11<00:56,  8.09s/it]"
     ]
    },
    {
     "name": "stdout",
     "output_type": "stream",
     "text": [
      "Successful response\n"
     ]
    },
    {
     "name": "stderr",
     "output_type": "stream",
     "text": [
      " 94%|█████████▍| 93/99 [12:19<00:48,  8.10s/it]"
     ]
    },
    {
     "name": "stdout",
     "output_type": "stream",
     "text": [
      "Successful response\n"
     ]
    },
    {
     "name": "stderr",
     "output_type": "stream",
     "text": [
      " 95%|█████████▍| 94/99 [12:28<00:40,  8.14s/it]"
     ]
    },
    {
     "name": "stdout",
     "output_type": "stream",
     "text": [
      "Successful response\n"
     ]
    },
    {
     "name": "stderr",
     "output_type": "stream",
     "text": [
      " 96%|█████████▌| 95/99 [12:36<00:32,  8.11s/it]"
     ]
    },
    {
     "name": "stdout",
     "output_type": "stream",
     "text": [
      "Successful response\n"
     ]
    },
    {
     "name": "stderr",
     "output_type": "stream",
     "text": [
      " 97%|█████████▋| 96/99 [12:44<00:24,  8.12s/it]"
     ]
    },
    {
     "name": "stdout",
     "output_type": "stream",
     "text": [
      "Successful response\n"
     ]
    },
    {
     "name": "stderr",
     "output_type": "stream",
     "text": [
      " 98%|█████████▊| 97/99 [12:52<00:16,  8.24s/it]"
     ]
    },
    {
     "name": "stdout",
     "output_type": "stream",
     "text": [
      "Successful response\n"
     ]
    },
    {
     "name": "stderr",
     "output_type": "stream",
     "text": [
      " 99%|█████████▉| 98/99 [13:01<00:08,  8.24s/it]"
     ]
    },
    {
     "name": "stdout",
     "output_type": "stream",
     "text": [
      "Successful response\n"
     ]
    },
    {
     "name": "stderr",
     "output_type": "stream",
     "text": [
      "100%|██████████| 99/99 [13:09<00:00,  7.97s/it]\n"
     ]
    }
   ],
   "source": [
    "web_driver = webdriver.Chrome()\n",
    "\n",
    "# Function to collect raw data from url:\n",
    "\n",
    "def get_page(city, type, beds, page):\n",
    "  \n",
    "    url    = f'https://www.torontorentals.com/{city}/{type}?beds={beds}%20&p={page}'\n",
    "    result = requests.get(url)\n",
    "    # https://www.torontorentals.com/toronto/condos?beds=1%20&p=2\n",
    "    # check HTTP response status codes to find if HTTP request has been successfully completed\n",
    "    if result.status_code >= 100  and result.status_code <= 199:\n",
    "        print('Informational response')\n",
    "    if result.status_code >= 200  and result.status_code <= 299:\n",
    "        print('Successful response')\n",
    "        web_driver.get(url)\n",
    "        time.sleep(2)\n",
    "        web_driver.execute_script(\"window.scrollTo(0, document.body.scrollHeight);\")\n",
    "        time.sleep(5)\n",
    "        soup = BeautifulSoup(web_driver.page_source,'lxml')\n",
    "    if result.status_code >= 300  and result.status_code <= 399:\n",
    "        print('Redirect')\n",
    "    if result.status_code >= 400  and result.status_code <= 499:\n",
    "        print('Client error')\n",
    "    if result.status_code >= 500  and result.status_code <= 599:\n",
    "        print('Server error')\n",
    "        \n",
    "    return soup\n",
    "\n",
    "#-----------------------------------------------------------------------------------------------------------------------------------\n",
    "\n",
    "# Data that will be used in the function\n",
    "house_type = [\"Apartment\",\"condo\",\"room\",\"house\",\"studio\",\"basement\"]\n",
    "bed_options = [\"0\",\"1\",\"2\",\"3\",\"4\",\"1-2\",\"1-3\"]\n",
    "\n",
    "# Lists that will contain the clean data\n",
    "listData = []\n",
    "listingStreet = []\n",
    "listingCity = []\n",
    "listingZip = []\n",
    "listingRent = []\n",
    "listingBed = []\n",
    "listingBath = []\n",
    "listingDim = []\n",
    "listingType = []\n",
    "ListingID = []\n",
    "\n",
    "# Code that implements the above function and the above lists to collect raw data          \n",
    "  \n",
    "for page_num in tqdm(range(1,100)):  # Range depends on how many pages you want to analyze\n",
    "    soup_page                = get_page('toronto', house_type, bed_options, page_num)\n",
    "            \n",
    "  \n",
    "  #Data Collection\n",
    "     \n",
    "    #This contains info on all datapoints needed, but will use other links instead to avoid mistakes during the clean up process\n",
    "    data = soup_page.find_all(\"div\",{\"class\":\"r-listing-card-v\"})\n",
    "    listData.append(data)  \n",
    "    \n",
    "    \n",
    "    # Street, Rent & House type had unique identifiers in the HTML \n",
    "    street                   = soup_page.find_all(\"div\",{\"class\":\"r-listing-address q-mb-md q-pl-md\"})\n",
    "    rent                     = soup_page.find_all(\"a\",{\"class\":\"r-listing-price q-my-md q-mr-md q-pl-md\"})\n",
    "    house_type               = soup_page.find_all(\"span\",{\"class\":\"r-listing-type\"})\n",
    "\n",
    "    # Bed, Bath and Dimensions had the same identifier from the HTML\n",
    "    data_bed_bath_dimensions = soup_page.find_all(\"span\",{\"class\":\"r-listing-infos__label\"})\n",
    "   \n",
    "    \n",
    "    \n",
    "    # Data Cleanup # Appending to Lists\n",
    "    \n",
    "    # Street & House type had unique identifiers in the HTML \n",
    "\n",
    "    # Address\n",
    "    str_street = [str(item) for item in street]\n",
    "    cleaned_street = [sub.replace('<div class=\"r-listing-address q-mb-md q-pl-md\">',\"\")\n",
    "                        .replace('</div>',\"\") for sub in str_street]\n",
    "    for i in cleaned_street:\n",
    "        listingStreet.append(i)\n",
    "        \n",
    "    # House Type    \n",
    "    str_house_type = [str(item) for item in house_type]\n",
    "    cleaned_house_type = [sub.replace('<span class=\"r-listing-type\">',\"</span>,\")\n",
    "                            .replace('</span>',\"\").replace(\",\",\"\") for sub in str_house_type]\n",
    "    for i in cleaned_house_type:\n",
    "        listingType.append(i)    \n",
    "        \n",
    "        \n",
    "    # Price    \n",
    "    str_rent = [str(item) for item in rent]\n",
    "    rent_1 = [sub.replace('<a class=\"r-listing-price q-my-md q-mr-md q-pl-md\"','').replace('href=\"/toronto/','')\n",
    "                        .replace('</a>',\"\").replace(\",\",\"\") for sub in str_rent]\n",
    "    rent_2 = [item.split(\">\") for item in rent_1]\n",
    "    cleaned_rent = [' - '.join(item.split(' - ')[:2]) for _, item in rent_2]\n",
    "    for i in cleaned_rent:\n",
    "        listingRent.append(i)\n",
    "        \n",
    "    # Bed, Bath & Dimensions    \n",
    "    str_data_bed_bath_dimensions    = [str(item) for item in data_bed_bath_dimensions]\n",
    "    for html in str_data_bed_bath_dimensions:\n",
    "        soup = BeautifulSoup(html, 'html.parser')\n",
    "        text = soup.text.strip()\n",
    "    \n",
    "        if 'bed' in text:\n",
    "            bed_text = text.split()[0]\n",
    "            listingBed.append(bed_text)\n",
    "        elif 'bath' in text:\n",
    "            bath_text = text.split()[0]\n",
    "            listingBath.append(bath_text)\n",
    "        elif 'Ft' in text:\n",
    "            sq_ft_text = text.split()[0]\n",
    "            listingDim.append(sq_ft_text)\n",
    "            \n",
    "    # For IDs:\n",
    "    \n",
    "    # Find all <a> elements with the class \"r-listing-price\"\n",
    "    anchor_elements = soup_page.find_all('a', class_='r-listing-price')\n",
    "\n",
    "    # Iterate through the <a> elements and extract the IDs\n",
    "    for anchor_element in anchor_elements:\n",
    "        href = anchor_element['href']\n",
    "\n",
    "        # Extract the ID from the href attribute using regular expressions\n",
    "        id_match = re.search(r'id(\\d+)', href)\n",
    "        if id_match:\n",
    "            listing_id = id_match.group(1)\n",
    "            ListingID.append(listing_id)\n",
    "    "
   ]
  },
  {
   "cell_type": "code",
   "execution_count": 3,
   "metadata": {},
   "outputs": [],
   "source": [
    "# To obtain the zipcodes for addresses\n",
    "\n",
    "# Initialize the OpenCageGeocode API key\n",
    "api_key = \"4d9d18c5a56040578558ee2d57caaf6f\"  #personal API key\n",
    "\n",
    "# Initialize the geocoder\n",
    "geocoder = OpenCageGeocode(api_key)\n",
    "\n",
    "\n",
    "# Function to extract city and postal code from address\n",
    "def extract_city_and_zip(address):\n",
    "    parts = address.split('-')\n",
    "    if len(parts) > 1:\n",
    "        city_part = parts[1].strip()  # Get the part after the hyphen and remove leading/trailing spaces\n",
    "        city = city_part.split(',')[0].strip()  # Extract the city name before the comma and remove spaces\n",
    "        return city\n",
    "    return None\n",
    "\n",
    "# Search for the postal code for each address in the list and add to the list of dictionaries\n",
    "for address in listingStreet:\n",
    "    result = geocoder.geocode(address, countrycode=\"CA\")\n",
    "    if result and 'components' in result[0]:\n",
    "        components = result[0]['components']\n",
    "        postal_code = components.get('postcode', 'Postal code not found')\n",
    "        listingZip.append(postal_code)\n",
    "    else:\n",
    "        listingZip.append('Postal code not found')\n",
    "\n",
    "# Function to extract city and postal code from address\n",
    "def extract_city_and_zip(address):\n",
    "    parts = address.split('-')\n",
    "    if len(parts) > 1:\n",
    "        right_part = parts[1].strip()  # Get the part after the hyphen and remove leading/trailing spaces\n",
    "        city_and_province = right_part.split(',')  # Split by comma to separate city and province\n",
    "        if len(city_and_province) > 1:\n",
    "            city = city_and_province[0].strip()  # Extract the city name and remove spaces\n",
    "            return city\n",
    "    return None\n",
    "\n",
    "# Apply the function to each element in the ListingStreet list\n",
    "for address in listingStreet:\n",
    "    city = extract_city_and_zip(address)\n",
    "    if city:\n",
    "        listingCity.append(city)\n",
    "    else:\n",
    "        listingCity.append('City not found')"
   ]
  },
  {
   "cell_type": "code",
   "execution_count": 4,
   "metadata": {},
   "outputs": [
    {
     "name": "stdout",
     "output_type": "stream",
     "text": [
      "850\n",
      "850\n",
      "850\n",
      "841\n",
      "702\n",
      "850\n",
      "850\n",
      "850\n"
     ]
    }
   ],
   "source": [
    "print(len(listingCity))\n",
    "print(len(listingType))\n",
    "print(len(listingBed))\n",
    "print(len(listingBath))\n",
    "print(len(listingDim))\n",
    "print(len(listingStreet))\n",
    "print(len(listingZip))\n",
    "print(len(listingRent))\n"
   ]
  },
  {
   "cell_type": "markdown",
   "metadata": {},
   "source": [
    "## Creating a Dataframe and Consolidating Cleaned Data"
   ]
  },
  {
   "cell_type": "code",
   "execution_count": 5,
   "metadata": {},
   "outputs": [
    {
     "name": "stdout",
     "output_type": "stream",
     "text": [
      "        Property Type Bedrooms Bathrooms Square Footage                                   Address               Zip code          Price\n",
      "City                                                                                                                                   \n",
      "Toronto     apartment      0-3         3           1463     450 Front Street West  - Toronto , ON                M5V 2P1  $2400 - $7872\n",
      "Toronto     apartment    1-2.5         2            963        118 Balliol Street  - Toronto , ON                M4S 3C4  $2540 - $4005\n",
      "Toronto     apartment      1-3       2.5           1119           131 Mill Street  - Toronto , ON                M5A 3C4  $2546 - $4437\n",
      "Toronto     apartment      0-3         2            886        200 Redpath Avenue  - Toronto , ON                M4P 1G4  $2570 - $4980\n",
      "Toronto     apartment      1-2         2           1050                57 Spadina  - Toronto , ON                M5R 2X3  $3217 - $4536\n",
      "...               ...      ...       ...            ...                                       ...                    ...            ...\n",
      "Toronto         condo      2.5      None           None  211 Saint Patrick Street  - Toronto , ON  Postal code not found          $4200\n",
      "Toronto     apartment        1      None           None           240 Jane Street  - Toronto , ON  Postal code not found          $2450\n",
      "Toronto         condo        1      None           None   42 Western Battery Road  - Toronto , ON                M6K 3R9          $2750\n",
      "Toronto         condo        1      None           None         45 Baseball Place  - Toronto , ON                M4M 2G1          $2400\n",
      "Toronto         condo        3      None           None     1211 King Street West  - Toronto , ON                M6K 1G4          $4550\n",
      "\n",
      "[850 rows x 7 columns]\n"
     ]
    }
   ],
   "source": [
    "import pandas as pd\n",
    "import numpy as np  # Import numpy for NaN values\n",
    "\n",
    "# Find the maximum length among all lists\n",
    "max_length = max(len(listingCity), len(listingType), len(listingBed), len(listingBath),\n",
    "                 len(listingDim), len(listingStreet), len(listingZip), len(listingRent))\n",
    "\n",
    "# Pad the shorter lists with None or NaN to match the maximum length\n",
    "def pad_list(lst, length, pad_value=None):\n",
    "    if len(lst) < length:\n",
    "        return lst + [pad_value] * (length - len(lst))\n",
    "    else:\n",
    "        return lst\n",
    "\n",
    "listingCity = pad_list(listingCity, max_length)\n",
    "listingType = pad_list(listingType, max_length)\n",
    "listingBed = pad_list(listingBed, max_length)\n",
    "listingBath = pad_list(listingBath, max_length)\n",
    "listingDim = pad_list(listingDim, max_length)\n",
    "listingStreet = pad_list(listingStreet, max_length)\n",
    "listingZip = pad_list(listingZip, max_length)\n",
    "listingRent = pad_list(listingRent, max_length)\n",
    "\n",
    "# Create the DataFrame\n",
    "column_names = [\"City\", \"Property Type\", \"Bedrooms\", \"Bathrooms\", \"Square Footage\", \"Address\",\n",
    "                \"Zip code\", \"Price\"]\n",
    "data = {\n",
    "    \"City\": listingCity,\n",
    "    \"Property Type\": listingType,\n",
    "    \"Bedrooms\": listingBed,\n",
    "    \"Bathrooms\": listingBath,\n",
    "    \"Square Footage\": listingDim,\n",
    "    \"Address\": listingStreet,\n",
    "    \"Zip code\": listingZip,\n",
    "    \"Price\": listingRent\n",
    "}\n",
    "\n",
    "df = pd.DataFrame(data)\n",
    "\n",
    "# Set the index (if needed)\n",
    "df.set_index('City', inplace=True)\n",
    "\n",
    "# Display the DataFrame\n",
    "print(df)"
   ]
  },
  {
   "cell_type": "code",
   "execution_count": 6,
   "metadata": {},
   "outputs": [
    {
     "name": "stdout",
     "output_type": "stream",
     "text": [
      "850\n"
     ]
    }
   ],
   "source": [
    "num_rows = df.shape[0]\n",
    "print(num_rows)"
   ]
  },
  {
   "cell_type": "code",
   "execution_count": 7,
   "metadata": {},
   "outputs": [],
   "source": [
    "# Save to a csv file to compare with Ottawa\n",
    "folder = r\"D:\\Projects\\Rentals/\"\n",
    "df.to_excel(\"rental_data_toronto_1.xlsx\")"
   ]
  },
  {
   "cell_type": "code",
   "execution_count": 8,
   "metadata": {},
   "outputs": [
    {
     "data": {
      "text/plain": [
       "'\\nReferences:\\n1. Web Scraping Rentals Website Using Python Beautiful Soup: https://medium.com/swlh/web-scraping-rentals-website-using-beautiful-soup-and-pandas-99e255f27052\\n2. Chat GPT (For fine-tuning)\\n3. StackOverflow\\n4. Google\\n'"
      ]
     },
     "execution_count": 8,
     "metadata": {},
     "output_type": "execute_result"
    }
   ],
   "source": [
    "\"\"\"\n",
    "References:\n",
    "1. Web Scraping Rentals Website Using Python Beautiful Soup: https://medium.com/swlh/web-scraping-rentals-website-using-beautiful-soup-and-pandas-99e255f27052\n",
    "2. Chat GPT (For fine-tuning)\n",
    "3. StackOverflow\n",
    "4. Google\n",
    "\"\"\""
   ]
  }
 ],
 "metadata": {
  "kernelspec": {
   "display_name": "Python 3",
   "language": "python",
   "name": "python3"
  },
  "language_info": {
   "codemirror_mode": {
    "name": "ipython",
    "version": 3
   },
   "file_extension": ".py",
   "mimetype": "text/x-python",
   "name": "python",
   "nbconvert_exporter": "python",
   "pygments_lexer": "ipython3",
   "version": "3.11.5"
  },
  "orig_nbformat": 4
 },
 "nbformat": 4,
 "nbformat_minor": 2
}
